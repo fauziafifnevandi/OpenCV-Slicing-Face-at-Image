{
 "cells": [
  {
   "cell_type": "code",
   "execution_count": null,
   "metadata": {},
   "outputs": [],
   "source": [
    "import glob, os\n",
    "import numpy as np\n",
    "import cv2\n",
    "import datetime\n",
    "import matplotlib.pyplot as plt\n",
    "\n",
    "face_cascade = cv2.CascadeClassifier(r'C:\\Users\\Nyx\\Anaconda3\\Library\\etc\\haarcascades/haarcascade_frontalface_default.xml')\n",
    "eye_cascade = cv2.CascadeClassifier(r'C:\\Users\\Nyx\\Anaconda3\\Library\\etc\\haarcascades/haarcascade_eye.xml')\n",
    "\n",
    "os.chdir(\"C:/Users/Nyx/skripsi/haar_cnn/dataset/wajah_un\")\n"
   ]
  },
  {
   "cell_type": "code",
   "execution_count": null,
   "metadata": {},
   "outputs": [],
   "source": [
    "for file in glob.glob(\"*.jpg\"): \n",
    "    img = cv2.imread(file)\n",
    "    img = cv2.cvtColor(img, cv2.COLOR_BGR2GRAY)\n",
    "    l = img.shape[1]\n",
    "    t = img.shape[0]\n",
    "    faces = face_cascade.detectMultiScale(img, 1.05, 5)\n",
    "    #bikin roi\n",
    "\n",
    "    counter = 0\n",
    "    for (x,y,w,h) in faces:\n",
    "        roi = img[y:y+h, x:x+w]\n",
    "        counter += 1\n",
    "        nama_output = 'C:/Users/Nyx/skripsi/haar_cnn/dataset/wajah_w/'+file+\".\"+str(counter)+\".jpg\"\n",
    "        cv2.imwrite(nama_output,roi)\n",
    "        print(nama_output)"
   ]
  }
 ],
 "metadata": {
  "kernelspec": {
   "display_name": "Python 3",
   "language": "python",
   "name": "python3"
  },
  "language_info": {
   "codemirror_mode": {
    "name": "ipython",
    "version": 3
   },
   "file_extension": ".py",
   "mimetype": "text/x-python",
   "name": "python",
   "nbconvert_exporter": "python",
   "pygments_lexer": "ipython3",
   "version": "3.7.3"
  }
 },
 "nbformat": 4,
 "nbformat_minor": 2
}
